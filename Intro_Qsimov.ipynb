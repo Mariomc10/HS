{
 "cells": [
  {
   "cell_type": "code",
   "execution_count": 1,
   "id": "f75aecea",
   "metadata": {},
   "outputs": [
    {
     "name": "stdout",
     "output_type": "stream",
     "text": [
      "Requirement already satisfied: qsimov-Mowstyl in c:\\users\\hp\\anaconda3\\lib\\site-packages (5.1.1)\n",
      "Requirement already satisfied: numpy>=1.21 in c:\\users\\hp\\anaconda3\\lib\\site-packages (from qsimov-Mowstyl) (1.23.5)\n",
      "Requirement already satisfied: matplotlib>=3.5.1 in c:\\users\\hp\\anaconda3\\lib\\site-packages (from qsimov-Mowstyl) (3.7.2)\n",
      "Requirement already satisfied: doki-Mowstyl>=1.4.0 in c:\\users\\hp\\anaconda3\\lib\\site-packages (from qsimov-Mowstyl) (1.5.0)\n",
      "Requirement already satisfied: contourpy>=1.0.1 in c:\\users\\hp\\anaconda3\\lib\\site-packages (from matplotlib>=3.5.1->qsimov-Mowstyl) (1.0.5)\n",
      "Requirement already satisfied: cycler>=0.10 in c:\\users\\hp\\anaconda3\\lib\\site-packages (from matplotlib>=3.5.1->qsimov-Mowstyl) (0.11.0)\n",
      "Requirement already satisfied: fonttools>=4.22.0 in c:\\users\\hp\\anaconda3\\lib\\site-packages (from matplotlib>=3.5.1->qsimov-Mowstyl) (4.25.0)\n",
      "Requirement already satisfied: kiwisolver>=1.0.1 in c:\\users\\hp\\anaconda3\\lib\\site-packages (from matplotlib>=3.5.1->qsimov-Mowstyl) (1.4.4)\n",
      "Requirement already satisfied: packaging>=20.0 in c:\\users\\hp\\anaconda3\\lib\\site-packages (from matplotlib>=3.5.1->qsimov-Mowstyl) (23.1)\n",
      "Requirement already satisfied: pillow>=6.2.0 in c:\\users\\hp\\anaconda3\\lib\\site-packages (from matplotlib>=3.5.1->qsimov-Mowstyl) (9.4.0)\n",
      "Requirement already satisfied: pyparsing<3.1,>=2.3.1 in c:\\users\\hp\\anaconda3\\lib\\site-packages (from matplotlib>=3.5.1->qsimov-Mowstyl) (3.0.9)\n",
      "Requirement already satisfied: python-dateutil>=2.7 in c:\\users\\hp\\anaconda3\\lib\\site-packages (from matplotlib>=3.5.1->qsimov-Mowstyl) (2.8.2)\n",
      "Requirement already satisfied: six>=1.5 in c:\\users\\hp\\anaconda3\\lib\\site-packages (from python-dateutil>=2.7->matplotlib>=3.5.1->qsimov-Mowstyl) (1.16.0)\n",
      "Note: you may need to restart the kernel to use updated packages.\n"
     ]
    }
   ],
   "source": [
    "pip install qsimov-Mowstyl"
   ]
  },
  {
   "cell_type": "code",
   "execution_count": 2,
   "id": "c6d3a3e6",
   "metadata": {},
   "outputs": [],
   "source": [
    "import qsimov as qj"
   ]
  },
  {
   "cell_type": "code",
   "execution_count": 3,
   "id": "cd32e706",
   "metadata": {},
   "outputs": [],
   "source": [
    "r = qj.QRegistry(2)"
   ]
  },
  {
   "cell_type": "code",
   "execution_count": 4,
   "id": "2089461d",
   "metadata": {},
   "outputs": [],
   "source": [
    "s = qj.QSystem(2)"
   ]
  },
  {
   "cell_type": "code",
   "execution_count": 5,
   "id": "ecb9b563",
   "metadata": {},
   "outputs": [
    {
     "data": {
      "text/plain": [
       "array([1.+0.j, 0.+0.j, 0.+0.j, 0.+0.j])"
      ]
     },
     "execution_count": 5,
     "metadata": {},
     "output_type": "execute_result"
    }
   ],
   "source": [
    "r.get_state()"
   ]
  },
  {
   "cell_type": "code",
   "execution_count": 6,
   "id": "b3cb8613",
   "metadata": {},
   "outputs": [
    {
     "data": {
      "text/plain": [
       "array([1.+0.j, 0.+0.j, 0.+0.j, 0.+0.j])"
      ]
     },
     "execution_count": 6,
     "metadata": {},
     "output_type": "execute_result"
    }
   ],
   "source": [
    "s.get_state()"
   ]
  },
  {
   "cell_type": "code",
   "execution_count": 7,
   "id": "82bcc2bd",
   "metadata": {},
   "outputs": [],
   "source": [
    "r2 = r.apply_gate(\"H\",targets=0)"
   ]
  },
  {
   "cell_type": "code",
   "execution_count": 8,
   "id": "79727073",
   "metadata": {},
   "outputs": [],
   "source": [
    "s2 = s.apply_gate(\"H\",targets=0)"
   ]
  },
  {
   "cell_type": "code",
   "execution_count": 9,
   "id": "093f69da",
   "metadata": {},
   "outputs": [
    {
     "data": {
      "text/plain": [
       "array([0.70710678+0.j, 0.70710678+0.j, 0.        +0.j, 0.        +0.j])"
      ]
     },
     "execution_count": 9,
     "metadata": {},
     "output_type": "execute_result"
    }
   ],
   "source": [
    "r2.get_state()"
   ]
  },
  {
   "cell_type": "code",
   "execution_count": 10,
   "id": "d5a03813",
   "metadata": {},
   "outputs": [
    {
     "data": {
      "text/plain": [
       "array([0.70710678+0.j, 0.70710678+0.j, 0.        +0.j, 0.        +0.j])"
      ]
     },
     "execution_count": 10,
     "metadata": {},
     "output_type": "execute_result"
    }
   ],
   "source": [
    "s2.get_state()"
   ]
  },
  {
   "cell_type": "code",
   "execution_count": 11,
   "id": "45cf374d",
   "metadata": {},
   "outputs": [],
   "source": [
    "del r\n",
    "del s"
   ]
  },
  {
   "cell_type": "code",
   "execution_count": 12,
   "id": "15e72f48",
   "metadata": {},
   "outputs": [
    {
     "ename": "NameError",
     "evalue": "name 'r' is not defined",
     "output_type": "error",
     "traceback": [
      "\u001b[1;31m---------------------------------------------------------------------------\u001b[0m",
      "\u001b[1;31mNameError\u001b[0m                                 Traceback (most recent call last)",
      "Cell \u001b[1;32mIn[12], line 1\u001b[0m\n\u001b[1;32m----> 1\u001b[0m r\u001b[38;5;241m.\u001b[39mget_state()\n",
      "\u001b[1;31mNameError\u001b[0m: name 'r' is not defined"
     ]
    }
   ],
   "source": [
    "r.get_state()"
   ]
  },
  {
   "cell_type": "code",
   "execution_count": null,
   "id": "b639e6c2",
   "metadata": {},
   "outputs": [],
   "source": [
    "r2.get_state()"
   ]
  },
  {
   "cell_type": "code",
   "execution_count": 13,
   "id": "6aa3e8fc",
   "metadata": {},
   "outputs": [],
   "source": [
    "r3 = r2.apply_gate(\"X\",targets=1,controls=0)"
   ]
  },
  {
   "cell_type": "code",
   "execution_count": 14,
   "id": "b2c53e04",
   "metadata": {},
   "outputs": [
    {
     "data": {
      "text/plain": [
       "array([0.70710678+0.j, 0.        +0.j, 0.        +0.j, 0.70710678+0.j])"
      ]
     },
     "execution_count": 14,
     "metadata": {},
     "output_type": "execute_result"
    }
   ],
   "source": [
    "r3.get_state()"
   ]
  },
  {
   "cell_type": "code",
   "execution_count": 15,
   "id": "95ea14b6",
   "metadata": {},
   "outputs": [
    {
     "data": {
      "text/plain": [
       "(<qsimov.structures.qregistry.QRegistry at 0x1e45312a050>, [False, False])"
      ]
     },
     "execution_count": 15,
     "metadata": {},
     "output_type": "execute_result"
    }
   ],
   "source": [
    "r3.measure({0,1})"
   ]
  },
  {
   "cell_type": "code",
   "execution_count": 16,
   "id": "49caf4d9",
   "metadata": {},
   "outputs": [
    {
     "ename": "error",
     "evalue": "NULL pointer to registry",
     "output_type": "error",
     "traceback": [
      "\u001b[1;31m---------------------------------------------------------------------------\u001b[0m",
      "\u001b[1;31merror\u001b[0m                                     Traceback (most recent call last)",
      "Cell \u001b[1;32mIn[16], line 1\u001b[0m\n\u001b[1;32m----> 1\u001b[0m r3\u001b[38;5;241m.\u001b[39mmeasure({\u001b[38;5;241m0\u001b[39m,\u001b[38;5;241m1\u001b[39m})[\u001b[38;5;241m0\u001b[39m]\u001b[38;5;241m.\u001b[39mget_state()\n",
      "File \u001b[1;32m~\\anaconda3\\Lib\\site-packages\\qsimov\\structures\\qregistry.py:251\u001b[0m, in \u001b[0;36mQRegistry.get_state\u001b[1;34m(self, key, canonical)\u001b[0m\n\u001b[0;32m    248\u001b[0m \u001b[38;5;250m\u001b[39m\u001b[38;5;124;03m\"\"\"Return the selected items of the state.\"\"\"\u001b[39;00m\n\u001b[0;32m    249\u001b[0m start, stop, step \u001b[38;5;241m=\u001b[39m _get_key_with_defaults(key, \u001b[38;5;28mself\u001b[39m\u001b[38;5;241m.\u001b[39msize,\n\u001b[0;32m    250\u001b[0m                                            \u001b[38;5;241m0\u001b[39m, \u001b[38;5;28mself\u001b[39m\u001b[38;5;241m.\u001b[39msize, \u001b[38;5;241m1\u001b[39m)\n\u001b[1;32m--> 251\u001b[0m res \u001b[38;5;241m=\u001b[39m np\u001b[38;5;241m.\u001b[39marray([\u001b[38;5;28mself\u001b[39m\u001b[38;5;241m.\u001b[39mdoki\u001b[38;5;241m.\u001b[39mregistry_get(\u001b[38;5;28mself\u001b[39m\u001b[38;5;241m.\u001b[39mreg, i, canonical,\n\u001b[0;32m    252\u001b[0m                                        \u001b[38;5;28mself\u001b[39m\u001b[38;5;241m.\u001b[39mverbose)\n\u001b[0;32m    253\u001b[0m                 \u001b[38;5;28;01mfor\u001b[39;00m i \u001b[38;5;129;01min\u001b[39;00m \u001b[38;5;28mrange\u001b[39m(start, stop, step)])\n\u001b[0;32m    254\u001b[0m \u001b[38;5;28;01mreturn\u001b[39;00m res\n",
      "File \u001b[1;32m~\\anaconda3\\Lib\\site-packages\\qsimov\\structures\\qregistry.py:251\u001b[0m, in \u001b[0;36m<listcomp>\u001b[1;34m(.0)\u001b[0m\n\u001b[0;32m    248\u001b[0m \u001b[38;5;250m\u001b[39m\u001b[38;5;124;03m\"\"\"Return the selected items of the state.\"\"\"\u001b[39;00m\n\u001b[0;32m    249\u001b[0m start, stop, step \u001b[38;5;241m=\u001b[39m _get_key_with_defaults(key, \u001b[38;5;28mself\u001b[39m\u001b[38;5;241m.\u001b[39msize,\n\u001b[0;32m    250\u001b[0m                                            \u001b[38;5;241m0\u001b[39m, \u001b[38;5;28mself\u001b[39m\u001b[38;5;241m.\u001b[39msize, \u001b[38;5;241m1\u001b[39m)\n\u001b[1;32m--> 251\u001b[0m res \u001b[38;5;241m=\u001b[39m np\u001b[38;5;241m.\u001b[39marray([\u001b[38;5;28mself\u001b[39m\u001b[38;5;241m.\u001b[39mdoki\u001b[38;5;241m.\u001b[39mregistry_get(\u001b[38;5;28mself\u001b[39m\u001b[38;5;241m.\u001b[39mreg, i, canonical,\n\u001b[0;32m    252\u001b[0m                                        \u001b[38;5;28mself\u001b[39m\u001b[38;5;241m.\u001b[39mverbose)\n\u001b[0;32m    253\u001b[0m                 \u001b[38;5;28;01mfor\u001b[39;00m i \u001b[38;5;129;01min\u001b[39;00m \u001b[38;5;28mrange\u001b[39m(start, stop, step)])\n\u001b[0;32m    254\u001b[0m \u001b[38;5;28;01mreturn\u001b[39;00m res\n",
      "\u001b[1;31merror\u001b[0m: NULL pointer to registry"
     ]
    }
   ],
   "source": [
    "r3.measure({0,1})[0].get_state()"
   ]
  },
  {
   "cell_type": "code",
   "execution_count": 17,
   "id": "7b92fb63",
   "metadata": {},
   "outputs": [],
   "source": [
    "import random as rnd"
   ]
  },
  {
   "cell_type": "code",
   "execution_count": 18,
   "id": "c91533cc",
   "metadata": {},
   "outputs": [
    {
     "data": {
      "text/plain": [
       "0.8028386545301998"
      ]
     },
     "execution_count": 18,
     "metadata": {},
     "output_type": "execute_result"
    }
   ],
   "source": [
    "rnd.random()"
   ]
  },
  {
   "cell_type": "code",
   "execution_count": 19,
   "id": "1197dcee",
   "metadata": {},
   "outputs": [
    {
     "data": {
      "text/plain": [
       "(<qsimov.structures.qregistry.QRegistry at 0x1e42a28a490>, [True, True])"
      ]
     },
     "execution_count": 19,
     "metadata": {},
     "output_type": "execute_result"
    }
   ],
   "source": [
    "r3.measure({0,1},random_generator=rnd.random)"
   ]
  },
  {
   "cell_type": "code",
   "execution_count": 20,
   "id": "30f3ec47",
   "metadata": {},
   "outputs": [],
   "source": [
    "import numpy as np\n",
    "\n",
    "np.random.seed(6470)"
   ]
  },
  {
   "cell_type": "code",
   "execution_count": 21,
   "id": "fd7e274d",
   "metadata": {},
   "outputs": [
    {
     "data": {
      "text/plain": [
       "(<qsimov.structures.qregistry.QRegistry at 0x1e45435cf50>, [False, False])"
      ]
     },
     "execution_count": 21,
     "metadata": {},
     "output_type": "execute_result"
    }
   ],
   "source": [
    "r3.measure({0,1},random_generator=rnd.random)"
   ]
  },
  {
   "cell_type": "code",
   "execution_count": 22,
   "id": "d90de3f8",
   "metadata": {},
   "outputs": [
    {
     "data": {
      "text/plain": [
       "(<qsimov.structures.qregistry.QRegistry at 0x1e4536ae790>, [True, None])"
      ]
     },
     "execution_count": 22,
     "metadata": {},
     "output_type": "execute_result"
    }
   ],
   "source": [
    "r3.measure({0},random_generator=rnd.random)"
   ]
  },
  {
   "cell_type": "code",
   "execution_count": 23,
   "id": "657147c5",
   "metadata": {},
   "outputs": [
    {
     "data": {
      "text/plain": [
       "(<qsimov.structures.qregistry.QRegistry at 0x1e454556490>, [None, False])"
      ]
     },
     "execution_count": 23,
     "metadata": {},
     "output_type": "execute_result"
    }
   ],
   "source": [
    "r3.measure({0})[0].measure({1})"
   ]
  },
  {
   "cell_type": "code",
   "execution_count": null,
   "id": "d7c6bb7b",
   "metadata": {},
   "outputs": [],
   "source": []
  }
 ],
 "metadata": {
  "kernelspec": {
   "display_name": "Python 3 (ipykernel)",
   "language": "python",
   "name": "python3"
  },
  "language_info": {
   "codemirror_mode": {
    "name": "ipython",
    "version": 3
   },
   "file_extension": ".py",
   "mimetype": "text/x-python",
   "name": "python",
   "nbconvert_exporter": "python",
   "pygments_lexer": "ipython3",
   "version": "3.11.5"
  }
 },
 "nbformat": 4,
 "nbformat_minor": 5
}
