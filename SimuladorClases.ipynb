{
 "cells": [
  {
   "cell_type": "code",
   "execution_count": 28,
   "id": "55decb70",
   "metadata": {},
   "outputs": [],
   "source": [
    "import numpy as np"
   ]
  },
  {
   "cell_type": "markdown",
   "id": "2f0a9d3b",
   "metadata": {},
   "source": [
    "## Funciones varias"
   ]
  },
  {
   "cell_type": "code",
   "execution_count": 29,
   "id": "8b5222b7",
   "metadata": {},
   "outputs": [],
   "source": [
    "def Puerta(name):\n",
    "    if name == \"H\":\n",
    "        return 1/np.sqrt(2)*np.array([[1,1],[1,-1]],dtype=np.float128)\n",
    "    if name == \"swap\":\n",
    "        return np.array([[1,0,0,0],[0,0,1,0],[0,1,0,0],[0,0,0,1]])\n",
    "    if name == \"cx\":\n",
    "        return np.array([[1,0,0,0],[0,0,0,1],[0,0,1,0],[0,1,0,0]])\n",
    "    \n",
    "    raise ValueError(\"Puerta no definida\")"
   ]
  },
  {
   "cell_type": "code",
   "execution_count": 65,
   "id": "ef54bbbf",
   "metadata": {},
   "outputs": [],
   "source": [
    "def swaps(distancia):\n",
    "    qubits = (0,distancia)\n",
    "    num_qubits = qubits[1] - qubits[0] + 1\n",
    "    swap = np.eye(2**num_qubits)\n",
    "    mask1 = 1 << qubits[0]\n",
    "    #anti_mask = ((1 << num_qubits) - 1) ^ mask1\n",
    "    mask2 = 1 << qubits[1]\n",
    "\n",
    "    for i in range(2**num_qubits):\n",
    "        if (i & mask1) and ((i & mask2) == 0):\n",
    "            swap[i,i] = 0\n",
    "            swap[i-mask1+mask2,i-mask1+mask2] = 0\n",
    "            swap[i,i-mask1+mask2] = 1\n",
    "            swap[i-mask1+mask2,i] = 1\n",
    "\n",
    "    return swap"
   ]
  },
  {
   "cell_type": "code",
   "execution_count": 66,
   "id": "6976f4ee",
   "metadata": {},
   "outputs": [
    {
     "data": {
      "text/plain": [
       "array([[1., 0., 0., 0., 0., 0., 0., 0.],\n",
       "       [0., 0., 0., 0., 1., 0., 0., 0.],\n",
       "       [0., 0., 1., 0., 0., 0., 0., 0.],\n",
       "       [0., 0., 0., 0., 0., 0., 1., 0.],\n",
       "       [0., 1., 0., 0., 0., 0., 0., 0.],\n",
       "       [0., 0., 0., 0., 0., 1., 0., 0.],\n",
       "       [0., 0., 0., 1., 0., 0., 0., 0.],\n",
       "       [0., 0., 0., 0., 0., 0., 0., 1.]])"
      ]
     },
     "execution_count": 66,
     "metadata": {},
     "output_type": "execute_result"
    }
   ],
   "source": [
    "swaps(2)"
   ]
  },
  {
   "cell_type": "code",
   "execution_count": 32,
   "id": "8138f596",
   "metadata": {},
   "outputs": [
    {
     "data": {
      "text/plain": [
       "array([[1., 0., 0., 0., 0., 0., 0., 0.],\n",
       "       [0., 0., 0., 0., 1., 0., 0., 0.],\n",
       "       [0., 0., 1., 0., 0., 0., 0., 0.],\n",
       "       [0., 0., 0., 0., 0., 0., 1., 0.],\n",
       "       [0., 1., 0., 0., 0., 0., 0., 0.],\n",
       "       [0., 0., 0., 0., 0., 1., 0., 0.],\n",
       "       [0., 0., 0., 1., 0., 0., 0., 0.],\n",
       "       [0., 0., 0., 0., 0., 0., 0., 1.]])"
      ]
     },
     "execution_count": 32,
     "metadata": {},
     "output_type": "execute_result"
    }
   ],
   "source": [
    "np.kron(Puerta(\"swap\"),np.eye(2)) @ np.kron(np.eye(2),Puerta(\"swap\")) @ np.kron(Puerta(\"swap\"),np.eye(2))"
   ]
  },
  {
   "cell_type": "markdown",
   "id": "fb46de3b",
   "metadata": {},
   "source": [
    "## Clase QRegistry"
   ]
  },
  {
   "cell_type": "code",
   "execution_count": 60,
   "id": "d0654562",
   "metadata": {},
   "outputs": [],
   "source": [
    "class QRegistry:\n",
    "    def __init__(self,nqubits):\n",
    "        self.nqubits = nqubits\n",
    "        self.estado = np.append(np.array([1],dtype=complex),np.array([0 for _ in range(2**self.nqubits - 1)],dtype=complex)).reshape(-1,1)\n",
    "\n",
    "    def ket(self):\n",
    "        return self.estado\n",
    "    \n",
    "    def bra(self):\n",
    "        return np.conjugate(np.transpose(self.estado))\n",
    "    \n",
    "    def M_densidad(self):\n",
    "        return np.dot(self.ket(),self.bra())\n",
    "    \n",
    "    def aplicar_puertaM(self, puerta, qubit):\n",
    "        num_q_Puerta = int(np.log2(puerta.shape[0]))\n",
    "\n",
    "        if qubit[0] < 0 or len(qubit) >= self.nqubits:\n",
    "            raise ValueError(\"Qubit imposible\")\n",
    "        \n",
    "        elif num_q_Puerta > self.nqubits - len(qubit):\n",
    "            raise ValueError(\"La puerta no cabe\")\n",
    "        \n",
    "        cambios = None\n",
    "\n",
    "        if len(qubit) > 1:\n",
    "            posiciones = qubit + [j for j in range(self.nqubits) if j not in qubit]\n",
    "            cambios = np.argsort(posiciones)\n",
    "            # print(cambios, posiciones)\n",
    "            \n",
    "            for i in range(len(qubit)):\n",
    "                if i != cambios[i]:\n",
    "                    # print(i,cambios[i])\n",
    "                    self.aplicar_puertaM(swaps(np.abs(i - cambios[i])),qubit=[i])\n",
    "\n",
    "        operacion = np.kron(np.kron(np.eye(2**(self.nqubits - qubit[0] - num_q_Puerta)),puerta),np.eye(2**qubit[0]))\n",
    "\n",
    "        self.estado = np.dot(operacion,self.ket())\n",
    "\n",
    "        if cambios is not None:\n",
    "            for i in range(len(qubit)):\n",
    "                if i != cambios[i]:\n",
    "                    # print(i,cambios[i])\n",
    "                    self.aplicar_puertaM(swaps(np.abs(i - cambios[i])),qubit=[i])\n",
    "\n",
    "        return self.estado\n",
    "    \n",
    "    def medir(self, qubit):\n",
    "        if qubit < 0 or qubit >= self.nqubits:\n",
    "            raise ValueError(\"Qubit imposible\")\n",
    "        \n",
    "        lista = [j for j in range(2**self.nqubits) if j//2**(qubit)%2]\n",
    "        # print(lista)\n",
    "        r = np.random.rand()\n",
    "        p = sum(np.absolute(self.estado[i,0])**2 for i in lista)\n",
    "\n",
    "        if r < p:\n",
    "            #print(\"Mide 1\")\n",
    "            listadg = [j for j in range(2**self.nqubits) if j//2**(qubit)%2 == 0]\n",
    "            for i in listadg:\n",
    "                self.estado[i,0] = 0\n",
    "            self.estado = self.estado/np.sqrt(p)\n",
    "        else:\n",
    "            #print(\"Mide 0\")\n",
    "            for i in lista:\n",
    "                self.estado[i,0] = 0\n",
    "            self.estado = self.estado/np.sqrt(1-p)\n",
    "\n",
    "        return int(r < p)\n"
   ]
  },
  {
   "cell_type": "code",
   "execution_count": 62,
   "id": "66a1cf6a",
   "metadata": {},
   "outputs": [
    {
     "data": {
      "text/plain": [
       "array([[0.70710678+0.j],\n",
       "       [0.        +0.j],\n",
       "       [0.        +0.j],\n",
       "       [0.        +0.j],\n",
       "       [0.        +0.j],\n",
       "       [0.70710678+0.j],\n",
       "       [0.        +0.j],\n",
       "       [0.        +0.j],\n",
       "       [0.        +0.j],\n",
       "       [0.        +0.j],\n",
       "       [0.        +0.j],\n",
       "       [0.        +0.j],\n",
       "       [0.        +0.j],\n",
       "       [0.        +0.j],\n",
       "       [0.        +0.j],\n",
       "       [0.        +0.j]], dtype=complex256)"
      ]
     },
     "execution_count": 62,
     "metadata": {},
     "output_type": "execute_result"
    }
   ],
   "source": [
    "registro = QRegistry(4)\n",
    "registro.aplicar_puertaM(Puerta(\"H\"),qubit=[0])\n",
    "# registro.aplicar_puertaM(swaps(1),qubit=[0])\n",
    "registro.aplicar_puertaM(Puerta(\"cx\"),qubit=[0,2])"
   ]
  },
  {
   "cell_type": "markdown",
   "id": "c41343ab",
   "metadata": {},
   "source": [
    "## Ejemplos de uso"
   ]
  },
  {
   "cell_type": "code",
   "execution_count": null,
   "id": "7e31df0c",
   "metadata": {},
   "outputs": [
    {
     "ename": "ValueError",
     "evalue": "La puerta no cabe",
     "output_type": "error",
     "traceback": [
      "\u001b[0;31m---------------------------------------------------------------------------\u001b[0m",
      "\u001b[0;31mValueError\u001b[0m                                Traceback (most recent call last)",
      "Cell \u001b[0;32mIn[24], line 7\u001b[0m\n\u001b[1;32m      4\u001b[0m par_epr \u001b[38;5;241m=\u001b[39m QRegistry(\u001b[38;5;241m2\u001b[39m)\n\u001b[1;32m      5\u001b[0m par_epr\u001b[38;5;241m.\u001b[39maplicar_puertaM(H,[\u001b[38;5;241m0\u001b[39m])\n\u001b[0;32m----> 7\u001b[0m \u001b[43mpar_epr\u001b[49m\u001b[38;5;241;43m.\u001b[39;49m\u001b[43maplicar_puertaM\u001b[49m\u001b[43m(\u001b[49m\u001b[43mcx\u001b[49m\u001b[43m,\u001b[49m\u001b[43m[\u001b[49m\u001b[38;5;241;43m0\u001b[39;49m\u001b[43m]\u001b[49m\u001b[43m)\u001b[49m\n\u001b[1;32m      9\u001b[0m display(par_epr\u001b[38;5;241m.\u001b[39mket())\n\u001b[1;32m     11\u001b[0m \u001b[38;5;28mprint\u001b[39m(par_epr\u001b[38;5;241m.\u001b[39mmedir(\u001b[38;5;241m0\u001b[39m))\n",
      "Cell \u001b[0;32mIn[19], line 23\u001b[0m, in \u001b[0;36mQRegistry.aplicar_puertaM\u001b[0;34m(self, puerta, qubit)\u001b[0m\n\u001b[1;32m     20\u001b[0m     \u001b[38;5;28;01mraise\u001b[39;00m \u001b[38;5;167;01mValueError\u001b[39;00m(\u001b[38;5;124m\"\u001b[39m\u001b[38;5;124mQubit imposible\u001b[39m\u001b[38;5;124m\"\u001b[39m)\n\u001b[1;32m     22\u001b[0m \u001b[38;5;28;01melif\u001b[39;00m num_q_Puerta \u001b[38;5;241m>\u001b[39m \u001b[38;5;28mself\u001b[39m\u001b[38;5;241m.\u001b[39mnqubits \u001b[38;5;241m-\u001b[39m \u001b[38;5;28mlen\u001b[39m(qubit):\n\u001b[0;32m---> 23\u001b[0m     \u001b[38;5;28;01mraise\u001b[39;00m \u001b[38;5;167;01mValueError\u001b[39;00m(\u001b[38;5;124m\"\u001b[39m\u001b[38;5;124mLa puerta no cabe\u001b[39m\u001b[38;5;124m\"\u001b[39m)\n\u001b[1;32m     25\u001b[0m cambios \u001b[38;5;241m=\u001b[39m \u001b[38;5;28;01mNone\u001b[39;00m\n\u001b[1;32m     27\u001b[0m \u001b[38;5;28;01mif\u001b[39;00m \u001b[38;5;28mlen\u001b[39m(qubit) \u001b[38;5;241m>\u001b[39m \u001b[38;5;241m1\u001b[39m:\n",
      "\u001b[0;31mValueError\u001b[0m: La puerta no cabe"
     ]
    }
   ],
   "source": [
    "cx = Puerta(\"cx\")\n",
    "H = Puerta(\"H\")\n",
    "\n",
    "par_epr = QRegistry(2)\n",
    "par_epr.aplicar_puertaM(H,[0])\n",
    "\n",
    "par_epr.aplicar_puertaM(cx,[0])\n",
    "\n",
    "display(par_epr.ket())\n",
    "\n",
    "print(par_epr.medir(0))\n",
    "\n",
    "print(par_epr.medir(1))"
   ]
  },
  {
   "cell_type": "code",
   "execution_count": null,
   "id": "ce37c308",
   "metadata": {},
   "outputs": [
    {
     "data": {
      "text/plain": [
       "array([[0.5+0.j],\n",
       "       [0. +0.j],\n",
       "       [0.5+0.j],\n",
       "       [0. +0.j],\n",
       "       [0.5+0.j],\n",
       "       [0. +0.j],\n",
       "       [0.5+0.j],\n",
       "       [0. +0.j]], dtype=complex256)"
      ]
     },
     "execution_count": 111,
     "metadata": {},
     "output_type": "execute_result"
    }
   ],
   "source": [
    "registro = QRegistry(3)\n",
    "registro.aplicar_puertaM(np.kron(hadamard,hadamard),1)\n",
    "registro.ket()"
   ]
  },
  {
   "cell_type": "code",
   "execution_count": null,
   "metadata": {},
   "outputs": [
    {
     "data": {
      "text/plain": [
       "array([[1.+0.j],\n",
       "       [0.+0.j],\n",
       "       [0.+0.j],\n",
       "       [0.+0.j],\n",
       "       [0.+0.j],\n",
       "       [0.+0.j],\n",
       "       [0.+0.j],\n",
       "       [0.+0.j]], dtype=complex256)"
      ]
     },
     "execution_count": 82,
     "metadata": {},
     "output_type": "execute_result"
    }
   ],
   "source": [
    "registro = QRegistry(3)\n",
    "hadamard = 1/np.sqrt(2)*np.array([[1,1],[1,-1]],dtype=np.float128)\n",
    "registro.aplicar_puerta(hadamard,[0])\n",
    "registro.aplicar_puerta(hadamard,[1])\n",
    "registro.aplicar_puerta(hadamard,[2])\n",
    "registro.aplicar_puerta(hadamard,[0])\n",
    "registro.aplicar_puerta(hadamard,[1])\n",
    "registro.aplicar_puerta(hadamard,[2])"
   ]
  },
  {
   "cell_type": "code",
   "execution_count": null,
   "id": "bb950d25",
   "metadata": {},
   "outputs": [
    {
     "data": {
      "text/plain": [
       "0"
      ]
     },
     "execution_count": 83,
     "metadata": {},
     "output_type": "execute_result"
    }
   ],
   "source": [
    "registro = QRegistry(3)\n",
    "registro.medir(1)"
   ]
  },
  {
   "cell_type": "code",
   "execution_count": null,
   "id": "566b8f3b",
   "metadata": {},
   "outputs": [
    {
     "data": {
      "text/plain": [
       "array([[1.+0.j],\n",
       "       [0.+0.j],\n",
       "       [0.+0.j],\n",
       "       [0.+0.j]])"
      ]
     },
     "execution_count": 84,
     "metadata": {},
     "output_type": "execute_result"
    }
   ],
   "source": [
    "ket0 = QRegistry(2)\n",
    "ket0.ket()"
   ]
  },
  {
   "cell_type": "code",
   "execution_count": null,
   "id": "c3de0dd0",
   "metadata": {},
   "outputs": [
    {
     "data": {
      "text/plain": [
       "array([[1.-0.j, 0.-0.j, 0.-0.j, 0.-0.j]])"
      ]
     },
     "execution_count": 85,
     "metadata": {},
     "output_type": "execute_result"
    }
   ],
   "source": [
    "ket0.bra()"
   ]
  },
  {
   "cell_type": "code",
   "execution_count": null,
   "id": "8e57758e",
   "metadata": {},
   "outputs": [
    {
     "data": {
      "text/plain": [
       "array([[1.+0.j, 0.+0.j, 0.+0.j, 0.+0.j],\n",
       "       [0.+0.j, 0.+0.j, 0.+0.j, 0.+0.j],\n",
       "       [0.+0.j, 0.+0.j, 0.+0.j, 0.+0.j],\n",
       "       [0.+0.j, 0.+0.j, 0.+0.j, 0.+0.j]])"
      ]
     },
     "execution_count": 86,
     "metadata": {},
     "output_type": "execute_result"
    }
   ],
   "source": [
    "ket0.M_densidad()"
   ]
  },
  {
   "cell_type": "code",
   "execution_count": null,
   "id": "c6bfdce4",
   "metadata": {},
   "outputs": [
    {
     "data": {
      "text/plain": [
       "array([[0.70710678+0.j],\n",
       "       [0.        +0.j],\n",
       "       [0.70710678+0.j],\n",
       "       [0.        +0.j]], dtype=complex256)"
      ]
     },
     "execution_count": 87,
     "metadata": {},
     "output_type": "execute_result"
    }
   ],
   "source": [
    "ket0.aplicar_puerta(hadamard,qubit=[1])"
   ]
  },
  {
   "cell_type": "code",
   "execution_count": null,
   "id": "9a97b69c",
   "metadata": {},
   "outputs": [
    {
     "data": {
      "text/plain": [
       "0"
      ]
     },
     "execution_count": 88,
     "metadata": {},
     "output_type": "execute_result"
    }
   ],
   "source": [
    "ket0.medir(1)"
   ]
  },
  {
   "cell_type": "code",
   "execution_count": null,
   "id": "c24a1547",
   "metadata": {},
   "outputs": [
    {
     "data": {
      "text/plain": [
       "array([[1.+0.j],\n",
       "       [0.+0.j],\n",
       "       [0.+0.j],\n",
       "       [0.+0.j]], dtype=complex256)"
      ]
     },
     "execution_count": 89,
     "metadata": {},
     "output_type": "execute_result"
    }
   ],
   "source": [
    "ket0.ket()"
   ]
  },
  {
   "cell_type": "code",
   "execution_count": null,
   "id": "254d18d2",
   "metadata": {},
   "outputs": [
    {
     "data": {
      "text/plain": [
       "array([[0.35355339+0.j],\n",
       "       [0.35355339+0.j],\n",
       "       [0.35355339+0.j],\n",
       "       [0.35355339+0.j],\n",
       "       [0.35355339+0.j],\n",
       "       [0.35355339+0.j],\n",
       "       [0.35355339+0.j],\n",
       "       [0.35355339+0.j]], dtype=complex256)"
      ]
     },
     "execution_count": 90,
     "metadata": {},
     "output_type": "execute_result"
    }
   ],
   "source": [
    "registro = QRegistry(3)\n",
    "registro.aplicar_puerta(hadamard,[0,1,2])\n",
    "registro.ket()"
   ]
  },
  {
   "cell_type": "code",
   "execution_count": null,
   "id": "599fde9a",
   "metadata": {},
   "outputs": [
    {
     "data": {
      "text/plain": [
       "8"
      ]
     },
     "execution_count": 91,
     "metadata": {},
     "output_type": "execute_result"
    }
   ],
   "source": [
    "registro.ket().shape[0]"
   ]
  },
  {
   "cell_type": "code",
   "execution_count": null,
   "id": "404e0df2",
   "metadata": {},
   "outputs": [
    {
     "data": {
      "text/plain": [
       "array([[0.70710678+0.j],\n",
       "       [0.        +0.j],\n",
       "       [0.70710678+0.j],\n",
       "       [0.        +0.j],\n",
       "       [0.        +0.j],\n",
       "       [0.        +0.j],\n",
       "       [0.        +0.j],\n",
       "       [0.        +0.j]], dtype=complex256)"
      ]
     },
     "execution_count": 98,
     "metadata": {},
     "output_type": "execute_result"
    }
   ],
   "source": [
    "registro = QRegistry(3)\n",
    "registro.aplicar_puertaM(hadamard,[1])\n",
    "registro.ket()"
   ]
  },
  {
   "cell_type": "code",
   "execution_count": null,
   "id": "8ecf14d0",
   "metadata": {},
   "outputs": [],
   "source": []
  }
 ],
 "metadata": {
  "kernelspec": {
   "display_name": "Python 3 (ipykernel)",
   "language": "python",
   "name": "python3"
  },
  "language_info": {
   "codemirror_mode": {
    "name": "ipython",
    "version": 3
   },
   "file_extension": ".py",
   "mimetype": "text/x-python",
   "name": "python",
   "nbconvert_exporter": "python",
   "pygments_lexer": "ipython3",
   "version": "3.10.13"
  }
 },
 "nbformat": 4,
 "nbformat_minor": 5
}
