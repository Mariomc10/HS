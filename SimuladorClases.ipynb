{
 "cells": [
  {
   "cell_type": "code",
   "execution_count": 158,
   "id": "8b5222b7",
   "metadata": {},
   "outputs": [],
   "source": [
    "def Puerta(name):\n",
    "    if name == \"H\":\n",
    "        return 1/np.sqrt(2)*np.array([[1,1],[1,-1]],dtype=np.float128)\n",
    "    if name == \"swap\":\n",
    "        return np.array([[1,0,0,0],[0,0,1,0],[0,1,0,0],[0,0,0,1]])\n",
    "    if name == \"cx\":\n",
    "        return np.array([[1,0,0,0],[0,0,0,1],[0,0,1,0],[0,1,0,0]])\n",
    "    \n",
    "    raise ValueError(\"Puerta no definida\")"
   ]
  },
  {
   "cell_type": "code",
   "execution_count": 199,
   "id": "ef54bbbf",
   "metadata": {},
   "outputs": [],
   "source": [
    "def swaps(qubits):\n",
    "    num_qubits = qubits[1] - qubits[0] + 1\n",
    "    resta = -2**qubits[0]\n",
    "    suma = 2**qubits[1]\n",
    "    swap = np.eye(2**num_qubits)\n",
    "    mask1 = 1 << qubits[0]\n",
    "    #anti_mask = ((1 << num_qubits) - 1) ^ mask1\n",
    "    mask2 = 1 << qubits[1]\n",
    "\n",
    "    for i in range(2**num_qubits):\n",
    "        if (i & mask1) and (i & mask2) == 0:\n",
    "            swap[i,i] = 0\n",
    "            swap[i+resta+suma,i+resta+suma] = 0\n",
    "            swap[i,i+resta+suma] = 1\n",
    "            swap[i+resta+suma,i] = 1\n",
    "\n",
    "    return swap"
   ]
  },
  {
   "cell_type": "code",
   "execution_count": 200,
   "id": "6976f4ee",
   "metadata": {},
   "outputs": [
    {
     "data": {
      "text/plain": [
       "array([[1., 0., 0., 0., 0., 0., 0., 0.],\n",
       "       [0., 0., 0., 0., 1., 0., 0., 0.],\n",
       "       [0., 0., 1., 0., 0., 0., 0., 0.],\n",
       "       [0., 0., 0., 0., 0., 0., 1., 0.],\n",
       "       [0., 1., 0., 0., 0., 0., 0., 0.],\n",
       "       [0., 0., 0., 0., 0., 1., 0., 0.],\n",
       "       [0., 0., 0., 1., 0., 0., 0., 0.],\n",
       "       [0., 0., 0., 0., 0., 0., 0., 1.]])"
      ]
     },
     "execution_count": 200,
     "metadata": {},
     "output_type": "execute_result"
    }
   ],
   "source": [
    "swaps([0,2])"
   ]
  },
  {
   "cell_type": "code",
   "execution_count": 168,
   "id": "8138f596",
   "metadata": {},
   "outputs": [
    {
     "data": {
      "text/plain": [
       "array([[1., 0., 0., 0., 0., 0., 0., 0.],\n",
       "       [0., 0., 0., 0., 1., 0., 0., 0.],\n",
       "       [0., 0., 1., 0., 0., 0., 0., 0.],\n",
       "       [0., 0., 0., 0., 0., 0., 1., 0.],\n",
       "       [0., 1., 0., 0., 0., 0., 0., 0.],\n",
       "       [0., 0., 0., 0., 0., 1., 0., 0.],\n",
       "       [0., 0., 0., 1., 0., 0., 0., 0.],\n",
       "       [0., 0., 0., 0., 0., 0., 0., 1.]])"
      ]
     },
     "execution_count": 168,
     "metadata": {},
     "output_type": "execute_result"
    }
   ],
   "source": [
    "np.kron(Puerta(\"swap\"),np.eye(2)) @ np.kron(np.eye(2),Puerta(\"swap\")) @ np.kron(Puerta(\"swap\"),np.eye(2))"
   ]
  },
  {
   "cell_type": "code",
   "execution_count": 171,
   "id": "2a7f974a",
   "metadata": {},
   "outputs": [
    {
     "name": "stdout",
     "output_type": "stream",
     "text": [
      "1\n",
      "6\n",
      "4\n"
     ]
    }
   ],
   "source": [
    "num_qubits = 3\n",
    "qubit = 0\n",
    "mask = 1 << qubit\n",
    "mask2 = 1 << 2\n",
    "\n",
    "anti_mask = ((1 << num_qubits) - 1) ^ mask\n",
    "\n",
    "print(mask)\n",
    "print(anti_mask)\n",
    "print(mask2)\n",
    "\n"
   ]
  },
  {
   "cell_type": "code",
   "execution_count": 112,
   "id": "d0654562",
   "metadata": {},
   "outputs": [],
   "source": [
    "import numpy as np\n",
    "\n",
    "class QRegistry:\n",
    "    def __init__(self,nqubits):\n",
    "        self.nqubits = nqubits\n",
    "        self.estado = np.append(np.array([1],dtype=complex),np.array([0 for _ in range(2**self.nqubits - 1)],dtype=complex)).reshape(-1,1)\n",
    "\n",
    "    def ket(self):\n",
    "        return self.estado\n",
    "    \n",
    "    def bra(self):\n",
    "        return np.conjugate(np.transpose(self.estado))\n",
    "    \n",
    "    def M_densidad(self):\n",
    "        return np.dot(self.ket(),self.bra())\n",
    "    \n",
    "    def aplicar_puerta(self, puerta, qubit):\n",
    "        if len(qubit) == 1:\n",
    "            if qubit[0] == 0:\n",
    "                operacion = np.kron(np.eye(2**(self.nqubits - 1)),puerta)\n",
    "            elif qubit[0] == self.nqubits-1:\n",
    "                operacion = np.kron(puerta,np.eye(2**qubit[0]))\n",
    "            else:\n",
    "                operacion = np.kron(np.kron(np.eye(2**qubit[0]),puerta),np.eye(2**(self.nqubits - qubit[0] - 1)))\n",
    "        else:\n",
    "            if 0 in qubit:\n",
    "                operacion = puerta\n",
    "            else:\n",
    "                operacion = np.eye(2)\n",
    "\n",
    "            for i in range(1,self.nqubits):\n",
    "                if i in qubit:\n",
    "                    operacion = np.kron(operacion,puerta)\n",
    "                else:\n",
    "                    operacion = np.kron(operacion,np.eye(2))\n",
    "\n",
    "        self.estado = np.dot(operacion,self.ket())\n",
    "        #print(operacion)\n",
    "        return self.estado\n",
    "    \n",
    "    def aplicar_puertaM(self, puerta, qubit):\n",
    "        num_q_Puerta = int(np.log2(puerta.shape[0]))\n",
    "\n",
    "        if qubit < 0 or qubit >= self.nqubits:\n",
    "            raise ValueError(\"Qubit imposible\")\n",
    "        \n",
    "        elif num_q_Puerta > self.nqubits - qubit:\n",
    "            raise ValueError(\"La puerta no cabe\")\n",
    "        \n",
    "        if qubit == 0:\n",
    "            operacion = np.kron(np.eye(2**(self.nqubits - num_q_Puerta)),puerta)\n",
    "        elif qubit + num_q_Puerta - 1 == self.nqubits-1:\n",
    "            operacion = np.kron(puerta,np.eye(2**qubit))\n",
    "        else:\n",
    "            operacion = np.kron(np.kron(np.eye(2**qubit),puerta),np.eye(2**(self.nqubits - qubit - num_q_Puerta)))\n",
    "\n",
    "        self.estado = np.dot(operacion,self.ket())\n",
    "        #print(operacion)\n",
    "        return self.estado\n",
    "    \n",
    "    def medir(self, qubit):\n",
    "        if qubit < 0 or qubit >= self.nqubits:\n",
    "            raise ValueError(\"Qubit imposible\")\n",
    "        \n",
    "        lista = [j for j in range(2**self.nqubits) if j//2**(qubit)%2]\n",
    "        # print(lista)\n",
    "        r = np.random.rand()\n",
    "        p = sum(np.absolute(self.estado[i,0])**2 for i in lista)\n",
    "\n",
    "        if r < p:\n",
    "            #print(\"Mide 1\")\n",
    "            listadg = [j for j in range(2**self.nqubits) if j//2**(qubit)%2 == 0]\n",
    "            for i in listadg:\n",
    "                self.estado[i,0] = 0\n",
    "            self.estado = self.estado/np.sqrt(p)\n",
    "        else:\n",
    "            #print(\"Mide 0\")\n",
    "            for i in lista:\n",
    "                self.estado[i,0] = 0\n",
    "            self.estado = self.estado/np.sqrt(1-p)\n",
    "\n",
    "        return int(r < p)\n"
   ]
  },
  {
   "cell_type": "code",
   "execution_count": 157,
   "id": "7e31df0c",
   "metadata": {},
   "outputs": [
    {
     "data": {
      "text/plain": [
       "array([[0.70710678+0.j],\n",
       "       [0.        +0.j],\n",
       "       [0.        +0.j],\n",
       "       [0.70710678+0.j]], dtype=complex256)"
      ]
     },
     "metadata": {},
     "output_type": "display_data"
    },
    {
     "name": "stdout",
     "output_type": "stream",
     "text": [
      "1\n",
      "1\n"
     ]
    }
   ],
   "source": [
    "cx = Puerta(\"cx\")\n",
    "H = Puerta(\"H\")\n",
    "\n",
    "par_epr = QRegistry(2)\n",
    "par_epr.aplicar_puertaM(H,0)\n",
    "\n",
    "par_epr.aplicar_puertaM(cx,0)\n",
    "\n",
    "display(par_epr.ket())\n",
    "\n",
    "print(par_epr.medir(0))\n",
    "\n",
    "print(par_epr.medir(1))"
   ]
  },
  {
   "cell_type": "code",
   "execution_count": 111,
   "id": "ce37c308",
   "metadata": {},
   "outputs": [
    {
     "data": {
      "text/plain": [
       "array([[0.5+0.j],\n",
       "       [0. +0.j],\n",
       "       [0.5+0.j],\n",
       "       [0. +0.j],\n",
       "       [0.5+0.j],\n",
       "       [0. +0.j],\n",
       "       [0.5+0.j],\n",
       "       [0. +0.j]], dtype=complex256)"
      ]
     },
     "execution_count": 111,
     "metadata": {},
     "output_type": "execute_result"
    }
   ],
   "source": [
    "registro = QRegistry(3)\n",
    "registro.aplicar_puertaM(np.kron(hadamard,hadamard),1)\n",
    "registro.ket()"
   ]
  },
  {
   "cell_type": "code",
   "execution_count": 82,
   "metadata": {},
   "outputs": [
    {
     "data": {
      "text/plain": [
       "array([[1.+0.j],\n",
       "       [0.+0.j],\n",
       "       [0.+0.j],\n",
       "       [0.+0.j],\n",
       "       [0.+0.j],\n",
       "       [0.+0.j],\n",
       "       [0.+0.j],\n",
       "       [0.+0.j]], dtype=complex256)"
      ]
     },
     "execution_count": 82,
     "metadata": {},
     "output_type": "execute_result"
    }
   ],
   "source": [
    "registro = QRegistry(3)\n",
    "hadamard = 1/np.sqrt(2)*np.array([[1,1],[1,-1]],dtype=np.float128)\n",
    "registro.aplicar_puerta(hadamard,[0])\n",
    "registro.aplicar_puerta(hadamard,[1])\n",
    "registro.aplicar_puerta(hadamard,[2])\n",
    "registro.aplicar_puerta(hadamard,[0])\n",
    "registro.aplicar_puerta(hadamard,[1])\n",
    "registro.aplicar_puerta(hadamard,[2])"
   ]
  },
  {
   "cell_type": "code",
   "execution_count": 83,
   "id": "bb950d25",
   "metadata": {},
   "outputs": [
    {
     "data": {
      "text/plain": [
       "0"
      ]
     },
     "execution_count": 83,
     "metadata": {},
     "output_type": "execute_result"
    }
   ],
   "source": [
    "registro = QRegistry(3)\n",
    "registro.medir(1)"
   ]
  },
  {
   "cell_type": "code",
   "execution_count": 84,
   "id": "566b8f3b",
   "metadata": {},
   "outputs": [
    {
     "data": {
      "text/plain": [
       "array([[1.+0.j],\n",
       "       [0.+0.j],\n",
       "       [0.+0.j],\n",
       "       [0.+0.j]])"
      ]
     },
     "execution_count": 84,
     "metadata": {},
     "output_type": "execute_result"
    }
   ],
   "source": [
    "ket0 = QRegistry(2)\n",
    "ket0.ket()"
   ]
  },
  {
   "cell_type": "code",
   "execution_count": 85,
   "id": "c3de0dd0",
   "metadata": {},
   "outputs": [
    {
     "data": {
      "text/plain": [
       "array([[1.-0.j, 0.-0.j, 0.-0.j, 0.-0.j]])"
      ]
     },
     "execution_count": 85,
     "metadata": {},
     "output_type": "execute_result"
    }
   ],
   "source": [
    "ket0.bra()"
   ]
  },
  {
   "cell_type": "code",
   "execution_count": 86,
   "id": "8e57758e",
   "metadata": {},
   "outputs": [
    {
     "data": {
      "text/plain": [
       "array([[1.+0.j, 0.+0.j, 0.+0.j, 0.+0.j],\n",
       "       [0.+0.j, 0.+0.j, 0.+0.j, 0.+0.j],\n",
       "       [0.+0.j, 0.+0.j, 0.+0.j, 0.+0.j],\n",
       "       [0.+0.j, 0.+0.j, 0.+0.j, 0.+0.j]])"
      ]
     },
     "execution_count": 86,
     "metadata": {},
     "output_type": "execute_result"
    }
   ],
   "source": [
    "ket0.M_densidad()"
   ]
  },
  {
   "cell_type": "code",
   "execution_count": 87,
   "id": "c6bfdce4",
   "metadata": {},
   "outputs": [
    {
     "data": {
      "text/plain": [
       "array([[0.70710678+0.j],\n",
       "       [0.        +0.j],\n",
       "       [0.70710678+0.j],\n",
       "       [0.        +0.j]], dtype=complex256)"
      ]
     },
     "execution_count": 87,
     "metadata": {},
     "output_type": "execute_result"
    }
   ],
   "source": [
    "ket0.aplicar_puerta(hadamard,qubit=[1])"
   ]
  },
  {
   "cell_type": "code",
   "execution_count": 88,
   "id": "9a97b69c",
   "metadata": {},
   "outputs": [
    {
     "data": {
      "text/plain": [
       "0"
      ]
     },
     "execution_count": 88,
     "metadata": {},
     "output_type": "execute_result"
    }
   ],
   "source": [
    "ket0.medir(1)"
   ]
  },
  {
   "cell_type": "code",
   "execution_count": 89,
   "id": "c24a1547",
   "metadata": {},
   "outputs": [
    {
     "data": {
      "text/plain": [
       "array([[1.+0.j],\n",
       "       [0.+0.j],\n",
       "       [0.+0.j],\n",
       "       [0.+0.j]], dtype=complex256)"
      ]
     },
     "execution_count": 89,
     "metadata": {},
     "output_type": "execute_result"
    }
   ],
   "source": [
    "ket0.ket()"
   ]
  },
  {
   "cell_type": "code",
   "execution_count": 90,
   "id": "254d18d2",
   "metadata": {},
   "outputs": [
    {
     "data": {
      "text/plain": [
       "array([[0.35355339+0.j],\n",
       "       [0.35355339+0.j],\n",
       "       [0.35355339+0.j],\n",
       "       [0.35355339+0.j],\n",
       "       [0.35355339+0.j],\n",
       "       [0.35355339+0.j],\n",
       "       [0.35355339+0.j],\n",
       "       [0.35355339+0.j]], dtype=complex256)"
      ]
     },
     "execution_count": 90,
     "metadata": {},
     "output_type": "execute_result"
    }
   ],
   "source": [
    "registro = QRegistry(3)\n",
    "registro.aplicar_puerta(hadamard,[0,1,2])\n",
    "registro.ket()"
   ]
  },
  {
   "cell_type": "code",
   "execution_count": 91,
   "id": "599fde9a",
   "metadata": {},
   "outputs": [
    {
     "data": {
      "text/plain": [
       "8"
      ]
     },
     "execution_count": 91,
     "metadata": {},
     "output_type": "execute_result"
    }
   ],
   "source": [
    "registro.ket().shape[0]"
   ]
  },
  {
   "cell_type": "code",
   "execution_count": 98,
   "id": "404e0df2",
   "metadata": {},
   "outputs": [
    {
     "data": {
      "text/plain": [
       "array([[0.70710678+0.j],\n",
       "       [0.        +0.j],\n",
       "       [0.70710678+0.j],\n",
       "       [0.        +0.j],\n",
       "       [0.        +0.j],\n",
       "       [0.        +0.j],\n",
       "       [0.        +0.j],\n",
       "       [0.        +0.j]], dtype=complex256)"
      ]
     },
     "execution_count": 98,
     "metadata": {},
     "output_type": "execute_result"
    }
   ],
   "source": [
    "registro = QRegistry(3)\n",
    "registro.aplicar_puertaM(hadamard,[1])\n",
    "registro.ket()"
   ]
  },
  {
   "cell_type": "code",
   "execution_count": null,
   "id": "8ecf14d0",
   "metadata": {},
   "outputs": [],
   "source": []
  }
 ],
 "metadata": {
  "kernelspec": {
   "display_name": "Python 3 (ipykernel)",
   "language": "python",
   "name": "python3"
  },
  "language_info": {
   "codemirror_mode": {
    "name": "ipython",
    "version": 3
   },
   "file_extension": ".py",
   "mimetype": "text/x-python",
   "name": "python",
   "nbconvert_exporter": "python",
   "pygments_lexer": "ipython3",
   "version": "3.10.13"
  }
 },
 "nbformat": 4,
 "nbformat_minor": 5
}
