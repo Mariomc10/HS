{
 "cells": [
  {
   "cell_type": "code",
   "execution_count": 114,
   "id": "55decb70",
   "metadata": {},
   "outputs": [],
   "source": [
    "import numpy as np"
   ]
  },
  {
   "cell_type": "markdown",
   "id": "2f0a9d3b",
   "metadata": {},
   "source": [
    "## Funciones varias"
   ]
  },
  {
   "cell_type": "code",
   "execution_count": 115,
   "id": "8b5222b7",
   "metadata": {},
   "outputs": [],
   "source": [
    "def Puerta(name):\n",
    "    if name == \"H\":\n",
    "        return 1/np.sqrt(2)*np.array([[1,1],[1,-1]],dtype=np.float128)\n",
    "    if name == \"swap\":\n",
    "        return np.array([[1,0,0,0],[0,0,1,0],[0,1,0,0],[0,0,0,1]])\n",
    "    if name == \"cx\":\n",
    "        return np.array([[1,0,0,0],[0,0,0,1],[0,0,1,0],[0,1,0,0]])\n",
    "    \n",
    "    raise ValueError(\"Puerta no definida\")"
   ]
  },
  {
   "cell_type": "code",
   "execution_count": 116,
   "id": "ef54bbbf",
   "metadata": {},
   "outputs": [],
   "source": [
    "def swaps(distancia):\n",
    "    qubits = (0,distancia)\n",
    "    num_qubits = qubits[1] - qubits[0] + 1\n",
    "    swap = np.eye(2**num_qubits)\n",
    "    mask1 = 1 << qubits[0]\n",
    "    #anti_mask = ((1 << num_qubits) - 1) ^ mask1\n",
    "    mask2 = 1 << qubits[1]\n",
    "\n",
    "    for i in range(2**num_qubits):\n",
    "        if (i & mask1) and ((i & mask2) == 0):\n",
    "            swap[i,i] = 0\n",
    "            swap[i-mask1+mask2,i-mask1+mask2] = 0\n",
    "            swap[i,i-mask1+mask2] = 1\n",
    "            swap[i-mask1+mask2,i] = 1\n",
    "\n",
    "    return swap"
   ]
  },
  {
   "cell_type": "code",
   "execution_count": 117,
   "id": "6976f4ee",
   "metadata": {},
   "outputs": [
    {
     "data": {
      "text/plain": [
       "array([[1., 0., 0., 0., 0., 0., 0., 0.],\n",
       "       [0., 0., 0., 0., 1., 0., 0., 0.],\n",
       "       [0., 0., 1., 0., 0., 0., 0., 0.],\n",
       "       [0., 0., 0., 0., 0., 0., 1., 0.],\n",
       "       [0., 1., 0., 0., 0., 0., 0., 0.],\n",
       "       [0., 0., 0., 0., 0., 1., 0., 0.],\n",
       "       [0., 0., 0., 1., 0., 0., 0., 0.],\n",
       "       [0., 0., 0., 0., 0., 0., 0., 1.]])"
      ]
     },
     "execution_count": 117,
     "metadata": {},
     "output_type": "execute_result"
    }
   ],
   "source": [
    "swaps(2)"
   ]
  },
  {
   "cell_type": "code",
   "execution_count": 118,
   "id": "8138f596",
   "metadata": {},
   "outputs": [
    {
     "data": {
      "text/plain": [
       "array([[1., 0., 0., 0., 0., 0., 0., 0.],\n",
       "       [0., 0., 0., 0., 1., 0., 0., 0.],\n",
       "       [0., 0., 1., 0., 0., 0., 0., 0.],\n",
       "       [0., 0., 0., 0., 0., 0., 1., 0.],\n",
       "       [0., 1., 0., 0., 0., 0., 0., 0.],\n",
       "       [0., 0., 0., 0., 0., 1., 0., 0.],\n",
       "       [0., 0., 0., 1., 0., 0., 0., 0.],\n",
       "       [0., 0., 0., 0., 0., 0., 0., 1.]])"
      ]
     },
     "execution_count": 118,
     "metadata": {},
     "output_type": "execute_result"
    }
   ],
   "source": [
    "np.kron(Puerta(\"swap\"),np.eye(2)) @ np.kron(np.eye(2),Puerta(\"swap\")) @ np.kron(Puerta(\"swap\"),np.eye(2))"
   ]
  },
  {
   "cell_type": "markdown",
   "id": "fb46de3b",
   "metadata": {},
   "source": [
    "## Clase QRegistry"
   ]
  },
  {
   "cell_type": "code",
   "execution_count": 119,
   "id": "d0654562",
   "metadata": {},
   "outputs": [],
   "source": [
    "class QRegistry:\n",
    "    def __init__(self,nqubits):\n",
    "        self.nqubits = nqubits\n",
    "        self.estado = np.append(np.array([1],dtype=complex),np.array([0 for _ in range(2**self.nqubits - 1)],dtype=complex)).reshape(-1,1)\n",
    "\n",
    "    def ket(self):\n",
    "        return self.estado\n",
    "    \n",
    "    def bra(self):\n",
    "        return np.conjugate(np.transpose(self.estado))\n",
    "    \n",
    "    def M_densidad(self):\n",
    "        return np.dot(self.ket(),self.bra())\n",
    "    \n",
    "    def aplicar_puerta(self, puerta, qubit):\n",
    "        num_q_Puerta = int(np.log2(puerta.shape[0]))\n",
    "\n",
    "        if qubit[0] < 0 or len(qubit) > self.nqubits:\n",
    "            raise ValueError(\"Qubit imposible\")\n",
    "        \n",
    "        elif num_q_Puerta > self.nqubits:\n",
    "            raise ValueError(\"La puerta no cabe\")\n",
    "        \n",
    "        cambios = None\n",
    "\n",
    "        if len(qubit) > 1:\n",
    "            posiciones = qubit + [j for j in range(self.nqubits) if j not in qubit]\n",
    "            cambios = np.argsort(posiciones)\n",
    "            ids = [posiciones[i] for i in cambios]\n",
    "            # print(cambios, posiciones)\n",
    "\n",
    "            for id in range(len(qubit)):\n",
    "                target_id = np.where(cambios == id)[0][0]\n",
    "                print(f\"SWAP({id},{target_id})\")\n",
    "                if id != target_id:\n",
    "                    self.aplicar_puerta(swaps(target_id - id),qubit=[id])\n",
    "\n",
    "        operacion = np.kron(np.kron(np.eye(2**(self.nqubits - qubit[0] - num_q_Puerta)),puerta),np.eye(2**qubit[0]))\n",
    "\n",
    "        self.estado = np.dot(operacion,self.ket())\n",
    "\n",
    "        print(cambios)\n",
    "\n",
    "        if cambios is not None:\n",
    "            for id in range(len(qubit)):\n",
    "                target_id = np.where(cambios == id)[0][0]\n",
    "                print(f\"DESSWAP({id},{target_id})\")\n",
    "                if id != target_id:\n",
    "                    self.aplicar_puerta(swaps(target_id - id),qubit=[id])\n",
    "\n",
    "        return self.estado\n",
    "    \n",
    "    def medir(self, qubit):\n",
    "        if qubit < 0 or qubit >= self.nqubits:\n",
    "            raise ValueError(\"Qubit imposible\")\n",
    "        \n",
    "        lista = [j for j in range(2**self.nqubits) if j//2**(qubit)%2]\n",
    "        # print(lista)\n",
    "        r = np.random.rand()\n",
    "        p = sum(np.absolute(self.estado[i,0])**2 for i in lista)\n",
    "\n",
    "        if r < p:\n",
    "            #print(\"Mide 1\")\n",
    "            listadg = [j for j in range(2**self.nqubits) if j//2**(qubit)%2 == 0]\n",
    "            for i in listadg:\n",
    "                self.estado[i,0] = 0\n",
    "            self.estado = self.estado/np.sqrt(p)\n",
    "        else:\n",
    "            #print(\"Mide 0\")\n",
    "            for i in lista:\n",
    "                self.estado[i,0] = 0\n",
    "            self.estado = self.estado/np.sqrt(1-p)\n",
    "\n",
    "        return int(r < p)\n"
   ]
  },
  {
   "cell_type": "code",
   "execution_count": 120,
   "id": "66a1cf6a",
   "metadata": {},
   "outputs": [
    {
     "name": "stdout",
     "output_type": "stream",
     "text": [
      "None\n",
      "SWAP(0,0)\n",
      "SWAP(1,2)\n",
      "None\n",
      "[0 2 1 3]\n",
      "DESSWAP(0,0)\n",
      "DESSWAP(1,2)\n",
      "None\n"
     ]
    },
    {
     "data": {
      "text/plain": [
       "array([[0.70710678+0.j],\n",
       "       [0.        +0.j],\n",
       "       [0.        +0.j],\n",
       "       [0.        +0.j],\n",
       "       [0.        +0.j],\n",
       "       [0.70710678+0.j],\n",
       "       [0.        +0.j],\n",
       "       [0.        +0.j],\n",
       "       [0.        +0.j],\n",
       "       [0.        +0.j],\n",
       "       [0.        +0.j],\n",
       "       [0.        +0.j],\n",
       "       [0.        +0.j],\n",
       "       [0.        +0.j],\n",
       "       [0.        +0.j],\n",
       "       [0.        +0.j]], dtype=complex256)"
      ]
     },
     "execution_count": 120,
     "metadata": {},
     "output_type": "execute_result"
    }
   ],
   "source": [
    "registro = QRegistry(4)\n",
    "registro.aplicar_puerta(Puerta(\"H\"),qubit=[0])\n",
    "# registro.aplicar_puertaM(swaps(1),qubit=[0])\n",
    "registro.aplicar_puerta(Puerta(\"cx\"),qubit=[0,2])"
   ]
  },
  {
   "cell_type": "markdown",
   "id": "c41343ab",
   "metadata": {},
   "source": [
    "## Ejemplos de uso"
   ]
  },
  {
   "cell_type": "code",
   "execution_count": 121,
   "id": "7e31df0c",
   "metadata": {},
   "outputs": [
    {
     "name": "stdout",
     "output_type": "stream",
     "text": [
      "None\n",
      "SWAP(0,0)\n",
      "SWAP(1,1)\n",
      "[0 1]\n",
      "DESSWAP(0,0)\n",
      "DESSWAP(1,1)\n"
     ]
    },
    {
     "data": {
      "text/plain": [
       "array([[0.70710678+0.j],\n",
       "       [0.        +0.j],\n",
       "       [0.        +0.j],\n",
       "       [0.70710678+0.j]], dtype=complex256)"
      ]
     },
     "metadata": {},
     "output_type": "display_data"
    },
    {
     "name": "stdout",
     "output_type": "stream",
     "text": [
      "0\n",
      "0\n"
     ]
    }
   ],
   "source": [
    "cx = Puerta(\"cx\")\n",
    "H = Puerta(\"H\")\n",
    "\n",
    "par_epr = QRegistry(2)\n",
    "par_epr.aplicar_puerta(H,[0])\n",
    "# display(par_epr.ket())\n",
    "\n",
    "par_epr.aplicar_puerta(cx,[0,1])\n",
    "\n",
    "display(par_epr.ket())\n",
    "\n",
    "print(par_epr.medir(0))\n",
    "\n",
    "print(par_epr.medir(1))"
   ]
  },
  {
   "cell_type": "code",
   "execution_count": 122,
   "id": "ce37c308",
   "metadata": {},
   "outputs": [
    {
     "name": "stdout",
     "output_type": "stream",
     "text": [
      "None\n"
     ]
    },
    {
     "data": {
      "text/plain": [
       "array([[0.5+0.j],\n",
       "       [0. +0.j],\n",
       "       [0.5+0.j],\n",
       "       [0. +0.j],\n",
       "       [0.5+0.j],\n",
       "       [0. +0.j],\n",
       "       [0.5+0.j],\n",
       "       [0. +0.j]], dtype=complex256)"
      ]
     },
     "execution_count": 122,
     "metadata": {},
     "output_type": "execute_result"
    }
   ],
   "source": [
    "registro = QRegistry(3)\n",
    "registro.aplicar_puerta(np.kron(Puerta(\"H\"),Puerta(\"H\")),[1])\n",
    "registro.ket()"
   ]
  },
  {
   "cell_type": "code",
   "execution_count": 123,
   "metadata": {},
   "outputs": [
    {
     "name": "stdout",
     "output_type": "stream",
     "text": [
      "None\n",
      "None\n",
      "None\n",
      "None\n",
      "None\n",
      "None\n"
     ]
    },
    {
     "data": {
      "text/plain": [
       "array([[1.+0.j],\n",
       "       [0.+0.j],\n",
       "       [0.+0.j],\n",
       "       [0.+0.j],\n",
       "       [0.+0.j],\n",
       "       [0.+0.j],\n",
       "       [0.+0.j],\n",
       "       [0.+0.j]], dtype=complex256)"
      ]
     },
     "execution_count": 123,
     "metadata": {},
     "output_type": "execute_result"
    }
   ],
   "source": [
    "registro = QRegistry(3)\n",
    "hadamard = 1/np.sqrt(2)*np.array([[1,1],[1,-1]],dtype=np.float128)\n",
    "registro.aplicar_puerta(hadamard,[0])\n",
    "registro.aplicar_puerta(hadamard,[1])\n",
    "registro.aplicar_puerta(hadamard,[2])\n",
    "registro.aplicar_puerta(hadamard,[0])\n",
    "registro.aplicar_puerta(hadamard,[1])\n",
    "registro.aplicar_puerta(hadamard,[2])"
   ]
  },
  {
   "cell_type": "code",
   "execution_count": 124,
   "id": "bb950d25",
   "metadata": {},
   "outputs": [
    {
     "data": {
      "text/plain": [
       "0"
      ]
     },
     "execution_count": 124,
     "metadata": {},
     "output_type": "execute_result"
    }
   ],
   "source": [
    "registro = QRegistry(3)\n",
    "registro.medir(1)"
   ]
  },
  {
   "cell_type": "code",
   "execution_count": 125,
   "id": "566b8f3b",
   "metadata": {},
   "outputs": [
    {
     "data": {
      "text/plain": [
       "array([[1.+0.j],\n",
       "       [0.+0.j],\n",
       "       [0.+0.j],\n",
       "       [0.+0.j]])"
      ]
     },
     "execution_count": 125,
     "metadata": {},
     "output_type": "execute_result"
    }
   ],
   "source": [
    "ket0 = QRegistry(2)\n",
    "ket0.ket()"
   ]
  },
  {
   "cell_type": "code",
   "execution_count": 126,
   "id": "c3de0dd0",
   "metadata": {},
   "outputs": [
    {
     "data": {
      "text/plain": [
       "array([[1.-0.j, 0.-0.j, 0.-0.j, 0.-0.j]])"
      ]
     },
     "execution_count": 126,
     "metadata": {},
     "output_type": "execute_result"
    }
   ],
   "source": [
    "ket0.bra()"
   ]
  },
  {
   "cell_type": "code",
   "execution_count": 127,
   "id": "8e57758e",
   "metadata": {},
   "outputs": [
    {
     "data": {
      "text/plain": [
       "array([[1.+0.j, 0.+0.j, 0.+0.j, 0.+0.j],\n",
       "       [0.+0.j, 0.+0.j, 0.+0.j, 0.+0.j],\n",
       "       [0.+0.j, 0.+0.j, 0.+0.j, 0.+0.j],\n",
       "       [0.+0.j, 0.+0.j, 0.+0.j, 0.+0.j]])"
      ]
     },
     "execution_count": 127,
     "metadata": {},
     "output_type": "execute_result"
    }
   ],
   "source": [
    "ket0.M_densidad()"
   ]
  },
  {
   "cell_type": "code",
   "execution_count": 128,
   "id": "c6bfdce4",
   "metadata": {},
   "outputs": [
    {
     "name": "stdout",
     "output_type": "stream",
     "text": [
      "None\n"
     ]
    },
    {
     "data": {
      "text/plain": [
       "array([[0.70710678+0.j],\n",
       "       [0.        +0.j],\n",
       "       [0.70710678+0.j],\n",
       "       [0.        +0.j]], dtype=complex256)"
      ]
     },
     "execution_count": 128,
     "metadata": {},
     "output_type": "execute_result"
    }
   ],
   "source": [
    "ket0.aplicar_puerta(hadamard,qubit=[1])"
   ]
  },
  {
   "cell_type": "code",
   "execution_count": 129,
   "id": "9a97b69c",
   "metadata": {},
   "outputs": [
    {
     "data": {
      "text/plain": [
       "0"
      ]
     },
     "execution_count": 129,
     "metadata": {},
     "output_type": "execute_result"
    }
   ],
   "source": [
    "ket0.medir(1)"
   ]
  },
  {
   "cell_type": "code",
   "execution_count": 130,
   "id": "c24a1547",
   "metadata": {},
   "outputs": [
    {
     "data": {
      "text/plain": [
       "array([[1.+0.j],\n",
       "       [0.+0.j],\n",
       "       [0.+0.j],\n",
       "       [0.+0.j]], dtype=complex256)"
      ]
     },
     "execution_count": 130,
     "metadata": {},
     "output_type": "execute_result"
    }
   ],
   "source": [
    "ket0.ket()"
   ]
  },
  {
   "cell_type": "code",
   "execution_count": 131,
   "id": "254d18d2",
   "metadata": {},
   "outputs": [
    {
     "name": "stdout",
     "output_type": "stream",
     "text": [
      "SWAP(0,0)\n",
      "SWAP(1,1)\n",
      "SWAP(2,2)\n",
      "[0 1 2]\n",
      "DESSWAP(0,0)\n",
      "DESSWAP(1,1)\n",
      "DESSWAP(2,2)\n"
     ]
    },
    {
     "data": {
      "text/plain": [
       "array([[0.70710678+0.j],\n",
       "       [0.70710678+0.j],\n",
       "       [0.        +0.j],\n",
       "       [0.        +0.j],\n",
       "       [0.        +0.j],\n",
       "       [0.        +0.j],\n",
       "       [0.        +0.j],\n",
       "       [0.        +0.j]], dtype=complex256)"
      ]
     },
     "execution_count": 131,
     "metadata": {},
     "output_type": "execute_result"
    }
   ],
   "source": [
    "registro = QRegistry(3)\n",
    "registro.aplicar_puerta(hadamard,[0,1,2])\n",
    "registro.ket()"
   ]
  },
  {
   "cell_type": "code",
   "execution_count": null,
   "id": "8ecf14d0",
   "metadata": {},
   "outputs": [],
   "source": []
  },
  {
   "cell_type": "code",
   "execution_count": null,
   "id": "6e1b7a7c",
   "metadata": {},
   "outputs": [],
   "source": []
  },
  {
   "cell_type": "markdown",
   "id": "8b27b8bf",
   "metadata": {},
   "source": [
    "# Coste de funciones"
   ]
  },
  {
   "cell_type": "code",
   "execution_count": null,
   "id": "320f121e",
   "metadata": {},
   "outputs": [],
   "source": [
    "'''\n",
    "n = distancia\n",
    "t(n) = 2 + 2 + 3 + 2^{2(n + 1)} + n + 1 + 1 + 3 + n + 2 + n + 1 + \n",
    " + 2^{n+1}*(1 + 5 + {3 + 7 + 5 + 5, 0})\n",
    "\n",
    "t(n) = 15 + 2^{2(n + 1)} + 3*n + 2^{n+1}*({26, 6})\n",
    "\n",
    "O =  2^{2n}\n",
    "w =  2^{2n}\n",
    "theta = 2^{2n}\n",
    "'''\n",
    "def swaps(distancia):\n",
    "    qubits = (0,distancia) # Coste 2 (asignacion + creacion)\n",
    "    # n = distancia + 1\n",
    "    num_qubits = qubits[1] - qubits[0] + 1 # Coste 2xO(1) + 3 (acceso a lista + operaciones + asignacion)\n",
    "    swap = np.eye(2**num_qubits) # Coste 2^{2(distancia + 1)} + distancia + 1 + 1 (potencia y asignacion)\n",
    "    mask1 = 1 << qubits[0] # Coste 1 (solo el desplazamiento) + 2 (asignacion + acceso)\n",
    "    #anti_mask = ((1 << num_qubits) - 1) ^ mask1\n",
    "    mask2 = 1 << qubits[1] # Coste distancia + 2\n",
    "\n",
    "    for i in range(2**num_qubits): # Coste distancia + 1 + 1*iteracion\n",
    "        if (i & mask1) and ((i & mask2) == 0): # Coste 5\n",
    "            swap[i,i] = 0 # Coste 3\n",
    "            swap[i-mask1+mask2,i-mask1+mask2] = 0 # Coste 7\n",
    "            swap[i,i-mask1+mask2] = 1 # Coste 5\n",
    "            swap[i-mask1+mask2,i] = 1 # Coste 5\n",
    "\n",
    "    return swap"
   ]
  },
  {
   "cell_type": "code",
   "execution_count": null,
   "id": "898bf646",
   "metadata": {},
   "outputs": [],
   "source": [
    "'''\n",
    "n = num_qubits\n",
    "t(n) = 4 + (1 + (n + 1) + (8 + qubit)*2^{n}) + θ(1) + (2 + (7 + 2*θ(1))*2^{n-1}) + \n",
    "     + (2 + {1 + (n + 1) + (8 + qubit)*2^{n}, 1} + (5)*2^{n-1} + θ(1) + 1 + 2^{n}) + 3 = \n",
    "     = 13 + 2*θ(1) + n + (9 + qubit)*2^{n} + (12 + 2*θ(1))*2^{n-1} + {(n + 1) + (8 + qubit)*2^{n} , 0}\n",
    "\n",
    "O(n) = 2^{n} # En el peor de los casos qubit = n - 1 => O(n) = n*2^{n}\n",
    "w(n) = 2^{n}\n",
    "θ(n) = 2^{n}\n",
    "'''\n",
    "\n",
    "def medir(self, qubit):\n",
    "        if qubit < 0 or qubit >= self.nqubits: # 4 (asumimos que nunca entra dentro)\n",
    "            raise ValueError(\"Qubit imposible\")\n",
    "        \n",
    "        # lista = [] # 1\n",
    "        # for j in range(2**self.nqubits): # (n + 1) + 2*2^{n}\n",
    "        #   if j//2**(qubit)%2: # 1 + qubit + 2 + 2\n",
    "        #       lista.append(j) # 1\n",
    "        lista = [j for j in range(2**self.nqubits) if j//2**(qubit)%2]\n",
    "        # len(lista) = len(listadg) = 2^{n-1}\n",
    "        r = np.random.rand()    # O(1)\n",
    "                                # w(1)\n",
    "                                # θ(1)\n",
    "\n",
    "        # p = 0 # 2 (interpretar como la llamada a la función sum?)\n",
    "        # for i in lista: # (1 + θ(1))*iteracion = (1 + θ(1))*2^{n-1}\n",
    "        #   p = p + np.absolute(self.estado[i,0])**2 # asignacion + potencia + suma + abs + acceso = 1 + 2 + 1 + θ(1) + 2 \n",
    "        p = sum(np.absolute(self.estado[i,0])**2 for i in lista)\n",
    "\n",
    "        if r < p: # 2\n",
    "            #print(\"Mide 1\")\n",
    "            # lista = [] # 1\n",
    "            # for j in range(2**self.nqubits): # (n + 1) + 2*2^{n}\n",
    "            #   if j//2**(qubit)%2 == 0: # 1 + qubit + 2 + 2 + 1\n",
    "            #       lista.append(j) # 1\n",
    "            listadg = [j for j in range(2**self.nqubits) if j//2**(qubit)%2 == 0]\n",
    "\n",
    "            for i in listadg: # 2*2^{n-1}\n",
    "                self.estado[i,0] = 0 # 3\n",
    "            self.estado = self.estado/np.sqrt(p) # θ(1) + 1 + 2^{n}\n",
    "        else: # 1\n",
    "            #print(\"Mide 0\")\n",
    "            for i in lista: # 2*2^{n-1}\n",
    "                self.estado[i,0] = 0 # 3\n",
    "            self.estado = self.estado/np.sqrt(1-p) # θ(1) + 1 + 2^{n}\n",
    "\n",
    "        return int(r < p) # 3"
   ]
  },
  {
   "cell_type": "markdown",
   "id": "10bdfcc8",
   "metadata": {},
   "source": [
    "# Coste espacial"
   ]
  },
  {
   "cell_type": "code",
   "execution_count": null,
   "id": "e84c0dc5",
   "metadata": {},
   "outputs": [],
   "source": [
    "'''\n",
    "Unidad = 32 bits\n",
    "(Una variable que almacena un valor simple ocupa 1 espacio de memoria)\n",
    "\n",
    "Memoria para calcular la medida (en el pico):\n",
    "\n",
    "p(n) = 6 + 2^{n-1} + {2^{n-1}, 0} + 4*2^{n}\n",
    "\n",
    "p(n) = O(2^{n})\n",
    "p(n) = w(2^{n})\n",
    "p(n) = θ(2^{n})\n",
    "\n",
    "'''\n",
    "\n",
    "def medir(self, qubit):\n",
    "        # self -> 1\n",
    "        # qubit -> 1\n",
    "        if qubit < 0 or qubit >= self.nqubits:\n",
    "            raise ValueError(\"Qubit imposible\")\n",
    "        \n",
    "        # lista -> 2^{n-1}\n",
    "        # j -> 1\n",
    "        lista = [j for j in range(2**self.nqubits) if j//2**(qubit)%2]\n",
    "        # j -> 0 (tras liberar memoria)\n",
    "        # r -> 2 + coste(rand) = 2 + θ(1)\n",
    "        r = np.random.rand()\n",
    "\n",
    "\n",
    "        # p -> 1 + 2*2^{n-1} + 2 + θ(1)\n",
    "        # p = sum([np.absolute(self.estado[i,0])**2 for i in lista])\n",
    "        # p -> 1 + 2 + θ(1) (tras liberar memoria)\n",
    "        # p -> 1 + 2 + θ(1)\n",
    "        p = sum(np.absolute(self.estado[i,0])**2 for i in lista)\n",
    "\n",
    "        if r < p:\n",
    "            #print(\"Mide 1\")\n",
    "            del lista\n",
    "            # lista -> 0 (tras liberar espacio)\n",
    "            # lista -> 2^{n-1}\n",
    "            lista = [j for j in range(2**self.nqubits) if j//2**(qubit)%2 == 0]\n",
    "\n",
    "            # i -> 1\n",
    "            for i in lista:\n",
    "                self.estado[i,0] = 0\n",
    "            # i -> 0 (tras liberar memoria)\n",
    "            # lista -> 0 (tras liberar espacio)\n",
    "            del lista\n",
    "            # division -> 4*2^{n}\n",
    "            self.estado = self.estado/np.sqrt(p)\n",
    "            # division -> 0 (tras liberar memoria)\n",
    "        else:\n",
    "            #print(\"Mide 0\")\n",
    "            # i -> 1\n",
    "            for i in lista:\n",
    "                self.estado[i,0] = 0\n",
    "            # i -> 0 (tras liberar memoria)\n",
    "            # lista -> 0 (tras liberar espacio)\n",
    "            del lista\n",
    "            # division -> 4*2^{n}\n",
    "            self.estado = self.estado/np.sqrt(1-p)\n",
    "            # division -> 0 (tras liberar memoria)\n",
    "\n",
    "        return int(r < p)"
   ]
  }
 ],
 "metadata": {
  "kernelspec": {
   "display_name": "Python 3 (ipykernel)",
   "language": "python",
   "name": "python3"
  },
  "language_info": {
   "codemirror_mode": {
    "name": "ipython",
    "version": 3
   },
   "file_extension": ".py",
   "mimetype": "text/x-python",
   "name": "python",
   "nbconvert_exporter": "python",
   "pygments_lexer": "ipython3",
   "version": "3.10.13"
  }
 },
 "nbformat": 4,
 "nbformat_minor": 5
}
