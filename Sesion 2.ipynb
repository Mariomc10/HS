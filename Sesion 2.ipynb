{
 "cells": [
  {
   "cell_type": "code",
   "execution_count": 251,
   "id": "d0654562",
   "metadata": {},
   "outputs": [],
   "source": [
    "import numpy as np\n",
    "\n",
    "class QRegistry:\n",
    "    def __init__(self,nqubits):\n",
    "        self.nqubits = nqubits\n",
    "        self.estado = np.append(np.array([1],dtype=complex),np.array([0 for _ in range(2**self.nqubits - 1)],dtype=complex)).reshape(-1,1)\n",
    "\n",
    "    def ket(self):\n",
    "        return self.estado\n",
    "    \n",
    "    def bra(self):\n",
    "        return np.conjugate(np.transpose(self.estado))\n",
    "    \n",
    "    def M_densidad(self):\n",
    "        return np.dot(self.ket(),self.bra())\n",
    "    \n",
    "    def aplicar_puerta1(self, puerta):\n",
    "        self.estado = np.dot(puerta,self.ket())\n",
    "        return self.estado\n",
    "    \n",
    "    def aplicar_puerta(self, puerta, qubit):\n",
    "        if qubit == 0:\n",
    "            operacion = np.kron(np.eye(2**(self.nqubits - 1)),puerta)\n",
    "        elif qubit == self.nqubits-1:\n",
    "            operacion = np.kron(puerta,np.eye(2**qubit))\n",
    "        else:\n",
    "            operacion = np.kron(np.kron(np.eye(2**qubit),puerta),np.eye(2**(self.nqubits - qubit - 1)))\n",
    "\n",
    "        self.estado = np.dot(operacion,self.ket())\n",
    "        #print(operacion)\n",
    "        return self.estado\n",
    "    \n",
    "    def medir(self, qubit):\n",
    "        lista = [j for j in range(2**self.nqubits) if j//2**(qubit)%2]\n",
    "        # print(lista)\n",
    "        r = np.random.rand()\n",
    "        p = sum(np.absolute(self.estado[i,0])**2 for i in lista)\n",
    "\n",
    "        if r < p:\n",
    "            #print(\"Mide 1\")\n",
    "            listadg = [j for j in range(2**self.nqubits) if j//2**(qubit)%2 == 0]\n",
    "            for i in listadg:\n",
    "                self.estado[i,0] = 0\n",
    "            self.estado = self.estado/np.sqrt(p)\n",
    "        else:\n",
    "            #print(\"Mide 0\")\n",
    "            for i in lista:\n",
    "                self.estado[i,0] = 0\n",
    "            self.estado = self.estado/np.sqrt(1-p)\n",
    "\n",
    "        return int(r < p)\n"
   ]
  },
  {
   "cell_type": "code",
   "execution_count": 269,
   "metadata": {},
   "outputs": [
    {
     "data": {
      "text/plain": [
       "array([[1.+0.j],\n",
       "       [0.+0.j],\n",
       "       [0.+0.j],\n",
       "       [0.+0.j],\n",
       "       [0.+0.j],\n",
       "       [0.+0.j],\n",
       "       [0.+0.j],\n",
       "       [0.+0.j]], dtype=complex256)"
      ]
     },
     "execution_count": 269,
     "metadata": {},
     "output_type": "execute_result"
    }
   ],
   "source": [
    "registro = QRegistry(3)\n",
    "hadamard = 1/np.sqrt(2)*np.array([[1,1],[1,-1]],dtype=np.float128)\n",
    "registro.aplicar_puerta(hadamard,0)\n",
    "registro.aplicar_puerta(hadamard,1)\n",
    "registro.aplicar_puerta(hadamard,2)\n",
    "registro.aplicar_puerta(hadamard,0)\n",
    "registro.aplicar_puerta(hadamard,1)\n",
    "registro.aplicar_puerta(hadamard,2)"
   ]
  },
  {
   "cell_type": "code",
   "execution_count": 252,
   "id": "bb950d25",
   "metadata": {},
   "outputs": [
    {
     "data": {
      "text/plain": [
       "0"
      ]
     },
     "execution_count": 252,
     "metadata": {},
     "output_type": "execute_result"
    }
   ],
   "source": [
    "registro = QRegistry(3)\n",
    "registro.medir(1)"
   ]
  },
  {
   "cell_type": "code",
   "execution_count": 253,
   "id": "566b8f3b",
   "metadata": {},
   "outputs": [
    {
     "data": {
      "text/plain": [
       "array([[1.+0.j],\n",
       "       [0.+0.j],\n",
       "       [0.+0.j],\n",
       "       [0.+0.j]])"
      ]
     },
     "execution_count": 253,
     "metadata": {},
     "output_type": "execute_result"
    }
   ],
   "source": [
    "ket0 = QRegistry(2)\n",
    "ket0.ket()"
   ]
  },
  {
   "cell_type": "code",
   "execution_count": 254,
   "id": "c3de0dd0",
   "metadata": {},
   "outputs": [
    {
     "data": {
      "text/plain": [
       "array([[1.-0.j, 0.-0.j, 0.-0.j, 0.-0.j]])"
      ]
     },
     "execution_count": 254,
     "metadata": {},
     "output_type": "execute_result"
    }
   ],
   "source": [
    "ket0.bra()"
   ]
  },
  {
   "cell_type": "code",
   "execution_count": 255,
   "id": "8e57758e",
   "metadata": {},
   "outputs": [
    {
     "data": {
      "text/plain": [
       "array([[1.+0.j, 0.+0.j, 0.+0.j, 0.+0.j],\n",
       "       [0.+0.j, 0.+0.j, 0.+0.j, 0.+0.j],\n",
       "       [0.+0.j, 0.+0.j, 0.+0.j, 0.+0.j],\n",
       "       [0.+0.j, 0.+0.j, 0.+0.j, 0.+0.j]])"
      ]
     },
     "execution_count": 255,
     "metadata": {},
     "output_type": "execute_result"
    }
   ],
   "source": [
    "ket0.M_densidad()"
   ]
  },
  {
   "cell_type": "code",
   "execution_count": 256,
   "id": "2f6b6bd5",
   "metadata": {},
   "outputs": [
    {
     "data": {
      "text/plain": [
       "array([[0.70710678+0.j],\n",
       "       [0.70710678+0.j]])"
      ]
     },
     "execution_count": 256,
     "metadata": {},
     "output_type": "execute_result"
    }
   ],
   "source": [
    "registro = QRegistry(1)\n",
    "hadamard = 1/np.sqrt(2)*np.array([[1,1],[1,-1]])\n",
    "registro.aplicar_puerta1(hadamard)"
   ]
  },
  {
   "cell_type": "code",
   "execution_count": 257,
   "id": "c6bfdce4",
   "metadata": {},
   "outputs": [
    {
     "data": {
      "text/plain": [
       "array([[0.70710678+0.j],\n",
       "       [0.        +0.j],\n",
       "       [0.70710678+0.j],\n",
       "       [0.        +0.j]])"
      ]
     },
     "execution_count": 257,
     "metadata": {},
     "output_type": "execute_result"
    }
   ],
   "source": [
    "ket0.aplicar_puerta(hadamard,qubit=1)"
   ]
  },
  {
   "cell_type": "code",
   "execution_count": 258,
   "id": "9a97b69c",
   "metadata": {},
   "outputs": [
    {
     "data": {
      "text/plain": [
       "1"
      ]
     },
     "execution_count": 258,
     "metadata": {},
     "output_type": "execute_result"
    }
   ],
   "source": [
    "ket0.medir(1)"
   ]
  },
  {
   "cell_type": "code",
   "execution_count": 259,
   "id": "c24a1547",
   "metadata": {},
   "outputs": [
    {
     "data": {
      "text/plain": [
       "array([[0.+0.j],\n",
       "       [0.+0.j],\n",
       "       [1.+0.j],\n",
       "       [0.+0.j]])"
      ]
     },
     "execution_count": 259,
     "metadata": {},
     "output_type": "execute_result"
    }
   ],
   "source": [
    "ket0.ket()"
   ]
  },
  {
   "cell_type": "code",
   "execution_count": null,
   "id": "11087a85",
   "metadata": {},
   "outputs": [],
   "source": []
  },
  {
   "cell_type": "code",
   "execution_count": null,
   "id": "283f7b43",
   "metadata": {},
   "outputs": [],
   "source": [
    "\n"
   ]
  }
 ],
 "metadata": {
  "kernelspec": {
   "display_name": "Python 3 (ipykernel)",
   "language": "python",
   "name": "python3"
  },
  "language_info": {
   "codemirror_mode": {
    "name": "ipython",
    "version": 3
   },
   "file_extension": ".py",
   "mimetype": "text/x-python",
   "name": "python",
   "nbconvert_exporter": "python",
   "pygments_lexer": "ipython3",
   "version": "3.10.13"
  }
 },
 "nbformat": 4,
 "nbformat_minor": 5
}
