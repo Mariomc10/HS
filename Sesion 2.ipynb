{
 "cells": [
  {
   "cell_type": "code",
   "execution_count": 102,
   "id": "d0654562",
   "metadata": {},
   "outputs": [],
   "source": [
    "import numpy as np\n",
    "\n",
    "class estado:\n",
    "    def __init__(self,dimension):\n",
    "        self.dimension = dimension\n",
    "        self.estado = np.append(np.array([1],dtype=complex),np.array([0 for _ in range(2**self.dimension - 1)],dtype=complex)).reshape(-1,1)\n",
    "\n",
    "    def ket(self):\n",
    "        return self.estado\n",
    "    \n",
    "    def bra(self):\n",
    "        return np.conjugate(np.transpose(self.estado))\n",
    "    \n",
    "    def M_densidad(self):\n",
    "        return np.dot(self.ket(),self.bra())\n",
    "    \n",
    "    def aplicar_puerta1(self, puerta):\n",
    "        self.estado = np.dot(puerta,self.ket())\n",
    "        return self.estado\n",
    "    \n",
    "    def aplicar_puerta(self, puerta, qubit):\n",
    "        if qubit == 0:\n",
    "            operacion = np.kron(puerta,np.eye(2**(self.dimension - 1)))\n",
    "        elif qubit == self.dimension-1:\n",
    "            operacion = np.kron(np.eye(2**qubit),puerta)\n",
    "        else:\n",
    "            operacion = np.kron(np.kron(np.eye(2**qubit),puerta),np.eye(2**(self.dimension - qubit - 1)))\n",
    "\n",
    "        self.estado = np.dot(operacion,self.ket())\n",
    "        return self.estado\n",
    "    \n",
    "    def medir(self, qubit):\n",
    "        print([j for j in range(2**self.dimension) if j//2**(qubit)%2 == 1])\n"
   ]
  },
  {
   "cell_type": "code",
   "execution_count": 103,
   "id": "566b8f3b",
   "metadata": {},
   "outputs": [
    {
     "data": {
      "text/plain": [
       "array([[1.+0.j],\n",
       "       [0.+0.j],\n",
       "       [0.+0.j],\n",
       "       [0.+0.j]])"
      ]
     },
     "execution_count": 103,
     "metadata": {},
     "output_type": "execute_result"
    }
   ],
   "source": [
    "ket0 = estado(2)\n",
    "ket0.ket()"
   ]
  },
  {
   "cell_type": "code",
   "execution_count": 104,
   "id": "c3de0dd0",
   "metadata": {},
   "outputs": [
    {
     "data": {
      "text/plain": [
       "array([[1.-0.j, 0.-0.j, 0.-0.j, 0.-0.j]])"
      ]
     },
     "execution_count": 104,
     "metadata": {},
     "output_type": "execute_result"
    }
   ],
   "source": [
    "ket0.bra()"
   ]
  },
  {
   "cell_type": "code",
   "execution_count": 105,
   "id": "8e57758e",
   "metadata": {},
   "outputs": [
    {
     "data": {
      "text/plain": [
       "array([[1.+0.j, 0.+0.j, 0.+0.j, 0.+0.j],\n",
       "       [0.+0.j, 0.+0.j, 0.+0.j, 0.+0.j],\n",
       "       [0.+0.j, 0.+0.j, 0.+0.j, 0.+0.j],\n",
       "       [0.+0.j, 0.+0.j, 0.+0.j, 0.+0.j]])"
      ]
     },
     "execution_count": 105,
     "metadata": {},
     "output_type": "execute_result"
    }
   ],
   "source": [
    "ket0.M_densidad()"
   ]
  },
  {
   "cell_type": "code",
   "execution_count": 106,
   "id": "2f6b6bd5",
   "metadata": {},
   "outputs": [
    {
     "data": {
      "text/plain": [
       "array([[0.70710678+0.j],\n",
       "       [0.70710678+0.j]])"
      ]
     },
     "execution_count": 106,
     "metadata": {},
     "output_type": "execute_result"
    }
   ],
   "source": [
    "registro = estado(1)\n",
    "hadamard = 1/np.sqrt(2)*np.array([[1,1],[1,-1]])\n",
    "registro.aplicar_puerta1(hadamard)"
   ]
  },
  {
   "cell_type": "code",
   "execution_count": 107,
   "id": "c6bfdce4",
   "metadata": {},
   "outputs": [
    {
     "data": {
      "text/plain": [
       "array([[0.70710678+0.j],\n",
       "       [0.        +0.j],\n",
       "       [0.70710678+0.j],\n",
       "       [0.        +0.j]])"
      ]
     },
     "execution_count": 107,
     "metadata": {},
     "output_type": "execute_result"
    }
   ],
   "source": [
    "ket0.aplicar_puerta(hadamard,qubit=0)"
   ]
  },
  {
   "cell_type": "code",
   "execution_count": 112,
   "id": "9a97b69c",
   "metadata": {},
   "outputs": [
    {
     "name": "stdout",
     "output_type": "stream",
     "text": [
      "[2, 3, 6, 7, 10, 11, 14, 15]\n"
     ]
    }
   ],
   "source": [
    "registro = estado(4)\n",
    "registro.medir(1)"
   ]
  },
  {
   "cell_type": "code",
   "execution_count": null,
   "id": "ba0f38b7",
   "metadata": {},
   "outputs": [],
   "source": []
  }
 ],
 "metadata": {
  "kernelspec": {
   "display_name": "Python 3 (ipykernel)",
   "language": "python",
   "name": "python3"
  },
  "language_info": {
   "codemirror_mode": {
    "name": "ipython",
    "version": 3
   },
   "file_extension": ".py",
   "mimetype": "text/x-python",
   "name": "python",
   "nbconvert_exporter": "python",
   "pygments_lexer": "ipython3",
   "version": "3.10.13"
  }
 },
 "nbformat": 4,
 "nbformat_minor": 5
}
